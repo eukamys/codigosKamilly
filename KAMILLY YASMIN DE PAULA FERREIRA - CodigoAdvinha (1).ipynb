{
 "cells": [
  {
   "cell_type": "markdown",
   "id": "56cf80bf",
   "metadata": {},
   "source": [
    "### Meu carro do sonho\n",
    "\n",
    "Vamos pedir para o usuário nos informar o nome do carro e o preço do carro dos sonhos deles."
   ]
  },
  {
   "cell_type": "code",
   "execution_count": 1,
   "id": "7d9330a4",
   "metadata": {},
   "outputs": [
    {
     "name": "stdout",
     "output_type": "stream",
     "text": [
      "o valor do carro é 100.00,e vc tem de dinheiro 50.00, e para realizar seu sonho falta 50.00 \n"
     ]
    }
   ],
   "source": [
    "# 1º Primeiro peça ao usuário o nome do carro dos sonhos:\n",
    "nome_carro = input(\"Informe o nome do seu carro do sonho:\")\n",
    "# 2º Peça o preço do carro dos sonhos\n",
    "preço_carro = float(input(\"qual o preço do carro?\"))\n",
    "# 3º Pergunte quanto dinheiro o usuário tem e guarde o valor em uma variável\n",
    "quantia = float(input(\"quanto de dinheiro vc tem?\"))\n",
    "# 4º Calcule quanto falta para o usuário conseguir comprar o carro\n",
    "resultado = (preço_carro - quantia)\n",
    "# 5º Mostre na tela o nome do carro o preço dele e quanto falta para o usuário realizar o sonho dele.\n",
    "print(f\"o valor do carro é {preço_carro:.2f},e vc tem de dinheiro {quantia:.2f}, e para realizar seu sonho falta {resultado:.2f} \")\n",
    "\n"
   ]
  },
  {
   "cell_type": "markdown",
   "id": "d28ba737",
   "metadata": {},
   "source": [
    "### Agenda de Celular\n",
    "\n",
    "Peça ao usuário que informe o nome dele e o número do telefone dele\n",
    "\n",
    "Depois mostre ao usuário print() com uma mensagem o nome dele e o número do telefone"
   ]
  },
  {
   "cell_type": "code",
   "execution_count": 2,
   "id": "3037f6bb",
   "metadata": {},
   "outputs": [
    {
     "name": "stdout",
     "output_type": "stream",
     "text": [
      "seu nome é:kamilly, seu telofone é 11900987\n"
     ]
    }
   ],
   "source": [
    "# preciso pedir o nome do usuário\n",
    "nome = input(\"digite o seu nome\")\n",
    "#preciso pedir o telefone\n",
    "telefone = input(\"digite seu telefone\")\n",
    "# mostrar as informações\n",
    "print(f\"seu nome é:{nome}, seu telofone é {telefone}\")\n",
    "\n"
   ]
  },
  {
   "cell_type": "markdown",
   "id": "3312349f",
   "metadata": {},
   "source": [
    "### Adivinha a idade\n",
    "\n",
    "preciso do ano do nascimento e o ano atual\n",
    "\n",
    "formula = ano_atual - ano_nascimento\n",
    "\n",
    "tipo da variavel int"
   ]
  },
  {
   "cell_type": "code",
   "execution_count": 6,
   "id": "4d8cbcc1",
   "metadata": {},
   "outputs": [
    {
     "name": "stdout",
     "output_type": "stream",
     "text": [
      "o ano em que vc nasceu é: 2009, e estamos no ano: 2025, e a sua idade é: -16\n"
     ]
    }
   ],
   "source": [
    "ano_nascimento =int(input(\"digitre o ano em que nasceu\"))\n",
    "ano_atual =int(input(\"digite o ano atual\"))\n",
    "resultado = (ano_nascimento - ano_atual)\n",
    "print(f\"o ano em que vc nasceu é: {ano_nascimento}, e estamos no ano: {ano_atual}, e a sua idade é: {resultado}\")"
   ]
  },
  {
   "cell_type": "code",
   "execution_count": null,
   "id": "236b7b55",
   "metadata": {},
   "outputs": [],
   "source": [
    "#int = para numeros inteiros \n",
    "#float = para numeros quebrados"
   ]
  }
 ],
 "metadata": {
  "kernelspec": {
   "display_name": "Python 3",
   "language": "python",
   "name": "python3"
  },
  "language_info": {
   "codemirror_mode": {
    "name": "ipython",
    "version": 3
   },
   "file_extension": ".py",
   "mimetype": "text/x-python",
   "name": "python",
   "nbconvert_exporter": "python",
   "pygments_lexer": "ipython3",
   "version": "3.13.2"
  }
 },
 "nbformat": 4,
 "nbformat_minor": 5
}
