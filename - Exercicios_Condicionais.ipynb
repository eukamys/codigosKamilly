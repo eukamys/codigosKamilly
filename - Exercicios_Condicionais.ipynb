{
 "cells": [
  {
   "cell_type": "markdown",
   "id": "633160a3",
   "metadata": {},
   "source": [
    "### 📝Lista de Exercícios: Condicionais IF/ELSE"
   ]
  },
  {
   "cell_type": "markdown",
   "id": "605d2a7e",
   "metadata": {},
   "source": [
    "Exercício 1 - Maioridade 🔞\n",
    "\n",
    "Crie um programa que pergunta a idade do usuário e diz se ele é maior ou menor de idade."
   ]
  },
  {
   "cell_type": "code",
   "execution_count": 2,
   "id": "93ea230f",
   "metadata": {},
   "outputs": [
    {
     "name": "stdout",
     "output_type": "stream",
     "text": [
      "menor de idade\n"
     ]
    }
   ],
   "source": [
    "idade = int(input(\"Quantos anos você tem? \"))\n",
    "\n",
    "# Complete o código aqui\n",
    "if idade >= 18:\n",
    "    print ('maior de idade') \n",
    "else:\n",
    "    print ('menor de idade') \n",
    "    \n",
    "\n"
   ]
  },
  {
   "cell_type": "markdown",
   "id": "6e9528f5",
   "metadata": {},
   "source": [
    "Exercício 2 - Aprovação na Prova 🧠\n",
    "\n",
    "Faça um programa que pergunte a nota de um aluno (0 a 10) e diz se ele foi aprovado(nota >= 5) ou reprovado (nota <5)."
   ]
  },
  {
   "cell_type": "code",
   "execution_count": 4,
   "id": "4a9f8f8b",
   "metadata": {},
   "outputs": [
    {
     "name": "stdout",
     "output_type": "stream",
     "text": [
      "reprovado\n"
     ]
    }
   ],
   "source": [
    "nota = float(input(\"Informe a sua nota de (0 a 10)\"))\n",
    "\n",
    "# Complete o código aqui\n",
    "if nota >=5 :\n",
    "    print ('aprovado') \n",
    "if nota <5: \n",
    "    print ('reprovado')\n",
    "    \n",
    "\n"
   ]
  },
  {
   "cell_type": "markdown",
   "id": "9f8e9b92",
   "metadata": {},
   "source": [
    "Exercicio 3 - CNH 🚘🚙\n",
    "\n",
    " 1º - Peça ao usuário que digite a idade dele.\n",
    "\n",
    " 2º - Peça pra ele dizer se foi aprovado ou reprovado no curso de cnh.\n",
    "\n",
    " 3º - Use if e else para verificar se ele tem 18 anos ou mais e se foi aprovado.\n",
    "\n",
    " 4º - Se as condições do passo 3 estiverem certas, print(\"pode dirigir\").\n",
    " \n",
    " 5º - Se não print(\"vai andar a pé\")"
   ]
  },
  {
   "cell_type": "code",
   "execution_count": 7,
   "id": "bee9f043",
   "metadata": {},
   "outputs": [
    {
     "name": "stdout",
     "output_type": "stream",
     "text": [
      "vai andar a pé\n"
     ]
    }
   ],
   "source": [
    "### Seu código aqui\n",
    "anos = int(input(\"quantos anos vc tem?\"))\n",
    "curso_cnh = input(\"vc foi aprovado no curso de CNH ( sim ou não)?\")\n",
    "\n",
    "if anos >=18 and curso_cnh == \"sim\":\n",
    "\n",
    "    print ('aprovado') \n",
    "else:\n",
    "    print (\"vai andar a pé\")\n"
   ]
  },
  {
   "cell_type": "markdown",
   "id": "e9c60d12",
   "metadata": {},
   "source": [
    "Exercício 4 - Calculadora de Desconto. 💵 🤑\n",
    "\n",
    "Uma loja dá 10% de desconto para compras acima de R$ 100,00. Faça um programa que:\n",
    "\n",
    "1º - Pergunta o valor da compra.\n",
    "\n",
    "2º - Calcula o valor final com desconto (se aplicável).\n",
    "\n",
    "3º - Mostra o valor a pagar."
   ]
  },
  {
   "cell_type": "code",
   "execution_count": 10,
   "id": "5edc8855",
   "metadata": {},
   "outputs": [
    {
     "name": "stdout",
     "output_type": "stream",
     "text": [
      "Você teve 10% de desconto, o preço final ficou 1800.0\n"
     ]
    }
   ],
   "source": [
    "### Seu código aqui\n",
    "valor_compra = float(input(\"Qual o valor da compra?\"))\n",
    "desconto = valor_compra * 0.10\n",
    "valor_final = valor_compra - desconto\n",
    "\n",
    "if valor_compra >=100:\n",
    "    print(f\"Você teve 10% de desconto, o preço final ficou {valor_final}\")\n",
    "else:\n",
    "    print(\"Não tem desconto \")"
   ]
  },
  {
   "cell_type": "markdown",
   "id": "ec96b43c",
   "metadata": {},
   "source": [
    "Exercício 5 - Classificação de Notas 🧑‍🎓\n",
    "\n",
    "Pergunte a nota de um aluno e dependendo da nota que ele informar, o classifique de acordo com as regras abaixo:\n",
    "\n",
    "Classifique a nota do aluno:\n",
    "\n",
    "- 9 até 10: \"Excelente\"\n",
    "\n",
    "- 7 até 8.9: \"Bom\"\n",
    "\n",
    "- 5 até 6.9: \"Regular\"\n",
    "\n",
    "- 0 até 4.9: \"Reprovado\"\n",
    "\n",
    "mostre para o aluno a classificação dele através de um print, exemplo print(\"Excelente\")."
   ]
  },
  {
   "cell_type": "code",
   "execution_count": 11,
   "id": "465c6812",
   "metadata": {},
   "outputs": [
    {
     "name": "stdout",
     "output_type": "stream",
     "text": [
      "bom\n"
     ]
    }
   ],
   "source": [
    "nota_aluno = int(input(\"qual a sua nota?\")) \n",
    "if nota_aluno == 9 and 10:\n",
    "    print (\"excelente\")\n",
    "elif nota_aluno >= 7 and nota_aluno <= 8.9:\n",
    "    print (\"bom\")\n",
    "elif  nota_aluno >=5 and nota_aluno <= 6.9:\n",
    "    print(\"regular\")\n",
    "else:\n",
    "    print (\"reprovado\") \n",
    "\n"
   ]
  },
  {
   "cell_type": "markdown",
   "id": "251b0fa7",
   "metadata": {},
   "source": [
    "Exercício 6 - Acesso ao Sistema 🔑\n",
    "\n",
    "Crie um login simples:\n",
    "\n",
    "- usuario_correto = \"admin\"\n",
    "\n",
    "- senha_correta = \"1234\"\n",
    "\n",
    "**Peça para o usuário digitar primeiro o login e depois a senha, caso login e senha estejam corretos programa deve mostrar \"Acesso permitido\" se não \"Acesso negado\"**\n"
   ]
  },
  {
   "cell_type": "code",
   "execution_count": 12,
   "id": "7fcf16db",
   "metadata": {},
   "outputs": [],
   "source": [
    "usuario_correto = \"admin\"\n",
    "senha_correta = \"1234\"\n",
    "\n",
    "login = input(\"qual o seu login/usuario?\")\n",
    "senha = int(input(\"digite a sua senha :\")) \n",
    "\n",
    "if login == usuario_correto and senha == senha_correta:\n",
    "    print(f\"acesso permitido, bem vindo ao sistema {login}\") \n",
    "    "
   ]
  },
  {
   "cell_type": "code",
   "execution_count": null,
   "id": "c640da41",
   "metadata": {},
   "outputs": [],
   "source": []
  },
  {
   "cell_type": "code",
   "execution_count": null,
   "id": "36ac95d4",
   "metadata": {},
   "outputs": [],
   "source": []
  },
  {
   "cell_type": "markdown",
   "id": "46c27406",
   "metadata": {},
   "source": [
    "Exercício 7 - Maior Número 📉\n",
    "\n",
    "Peça 3 números e mostre qual é o maior deles."
   ]
  },
  {
   "cell_type": "code",
   "execution_count": null,
   "id": "03a352f3",
   "metadata": {},
   "outputs": [],
   "source": []
  },
  {
   "cell_type": "code",
   "execution_count": 7,
   "id": "916439ff",
   "metadata": {},
   "outputs": [
    {
     "name": "stdout",
     "output_type": "stream",
     "text": [
      "o maior do 36669\n"
     ]
    }
   ],
   "source": [
    "um_numero = int(input(\"me fala um número\")) \n",
    "dois_numero = int(input(\"me fala outro numero\"))\n",
    "tres_numeros = int(input(\"me fale outro numero\"))\n",
    "if um_numero> dois_numero and um_numero> tres_numeros:\n",
    "    print (f\" o maior numero{um_numero}\")\n",
    "elif dois_numero >um_numero and dois_numero > tres_numeros:\n",
    "    print (f\"o maior do {dois_numero}\")\n",
    "else:\n",
    "    print (f\"o maior numero é {tres_numeros}\")\n",
    "    "
   ]
  },
  {
   "cell_type": "markdown",
   "id": "984fe0fe",
   "metadata": {},
   "source": [
    "Exercício 8 - Dia da Semana\n",
    "Peça um número de 1 a 7 e mostre o dia da semana correspondente: 📅\n",
    "\n",
    "- 1: Domingo\n",
    "\n",
    "- 2: Segunda\n",
    "\n",
    "- ... até 7: Sábado"
   ]
  },
  {
   "cell_type": "code",
   "execution_count": 14,
   "id": "f34c6fbf",
   "metadata": {},
   "outputs": [
    {
     "name": "stdout",
     "output_type": "stream",
     "text": [
      "quinta\n"
     ]
    }
   ],
   "source": [
    "calendario = float(input(\"informe um número de (1 a 7)\"))\n",
    "\n",
    "if calendario ==1 :\n",
    "   print ('domigo')\n",
    "elif calendario ==2 :   \n",
    "   print ('segunda') \n",
    "elif calendario == 3: \n",
    "   print ('terça')\n",
    "elif calendario ==4 :\n",
    "   print ('quarta')\n",
    "elif calendario ==5 :\n",
    "   print ('quinta') \n",
    "elif calendario == 6 :\n",
    "   print ('sexta')\n",
    "elif calendario == 7:\n",
    "   print ('sabado')\n",
    "\n",
    "   "
   ]
  },
  {
   "cell_type": "markdown",
   "id": "f1f760b7",
   "metadata": {},
   "source": [
    "Exercício 9 - Calculadora Simples 📏📐\n",
    "\n",
    "- Faça uma calculadora que:\n",
    "\n",
    "- Pede dois números\n",
    "\n",
    "- Pede a operação (+, -, *, /)\n",
    "\n",
    "- Dependendo da operação mostre o resultado.\n",
    "\n"
   ]
  },
  {
   "cell_type": "code",
   "execution_count": null,
   "id": "95c6ce03",
   "metadata": {},
   "outputs": [
    {
     "name": "stdout",
     "output_type": "stream",
     "text": [
      "subtração\n"
     ]
    }
   ],
   "source": [
    "\n",
    "primeiro_numero = int(input(\"me fale um numero\"))\n",
    "segundo_numero = int(input(\"me fale outro numero\"))\n",
    "operacao = input(\"Qual tipo de conta , você quer fazer? \")\n",
    " \n",
    "if operacao == \"+\" :\n",
    "    print (f\" a soma dos dois números foi :{primeiro_numero + segundo_numero}\")\n",
    "elif operacao == \"-\" :\n",
    "    print (f\" a subtração dos dois numeros foi: {primeiro_numero - segundo_numero}\") \n",
    "elif operacao == \"*\" :\n",
    "    print (f\"\")\n",
    "elif primeiro_numero / segundo_numero :\n",
    "    print (\"divisão\")\n"
   ]
  },
  {
   "cell_type": "markdown",
   "id": "f39f6b73",
   "metadata": {},
   "source": [
    "Exercício 10 - Sistema de Multas 🚙🚘🧾\n",
    "\n",
    "\n",
    "- Velocidade máxima: 80 km/h 🚫\n",
    "\n",
    "- Até 80: \"Sem multa\"\n",
    "\n",
    "- 81-100: \"Multa leve\"\n",
    "\n",
    "- Acima de 100: \"Multa grave\""
   ]
  },
  {
   "cell_type": "code",
   "execution_count": null,
   "id": "ceef25c1",
   "metadata": {},
   "outputs": [],
   "source": []
  },
  {
   "cell_type": "code",
   "execution_count": null,
   "id": "20fdc977",
   "metadata": {},
   "outputs": [],
   "source": [
    "multas = "
   ]
  }
 ],
 "metadata": {
  "kernelspec": {
   "display_name": "Python 3",
   "language": "python",
   "name": "python3"
  },
  "language_info": {
   "codemirror_mode": {
    "name": "ipython",
    "version": 3
   },
   "file_extension": ".py",
   "mimetype": "text/x-python",
   "name": "python",
   "nbconvert_exporter": "python",
   "pygments_lexer": "ipython3",
   "version": "3.13.2"
  }
 },
 "nbformat": 4,
 "nbformat_minor": 5
}
