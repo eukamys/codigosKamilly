{
 "cells": [
  {
   "cell_type": "markdown",
   "id": "938889cd",
   "metadata": {},
   "source": [
    "\n",
    "### CLT\n"
   ]
  },
  {
   "cell_type": "code",
   "execution_count": 4,
   "id": "7d2b024c",
   "metadata": {},
   "outputs": [
    {
     "name": "stdout",
     "output_type": "stream",
     "text": [
      "Vc vai ficar devendo -2870\n"
     ]
    }
   ],
   "source": [
    "#1 \n",
    "salario = 1200\n",
    "#2\n",
    "gasolina = 200\n",
    "#3\n",
    "internet = 200\n",
    "#4\n",
    "alimentos = 1500\n",
    "#5\n",
    "agua = 100\n",
    "#6\n",
    "luz = 300\n",
    "#7\n",
    "condominio = 570\n",
    "#8\n",
    "entreterimento = 1200\n",
    "\n",
    "total_gasto = gasolina + internet + alimentos + agua + luz + condominio + entreterimento\n",
    "\n",
    "quanto_sobra = salario - total_gasto\n",
    "\n",
    "print(f\"Vc vai ficar devendo {quanto_sobra}\")\n",
    " \n"
   ]
  },
  {
   "cell_type": "markdown",
   "id": "d02db9ca",
   "metadata": {},
   "source": [
    "### Meus gastos"
   ]
  },
  {
   "cell_type": "code",
   "execution_count": null,
   "id": "389b6b36",
   "metadata": {},
   "outputs": [
    {
     "ename": "IndentationError",
     "evalue": "unexpected indent (3613099479.py, line 17)",
     "output_type": "error",
     "traceback": [
      "  \u001b[36mCell\u001b[39m\u001b[36m \u001b[39m\u001b[32mIn[6]\u001b[39m\u001b[32m, line 17\u001b[39m\n\u001b[31m    \u001b[39m\u001b[31mprint(total_que_sobrara)\u001b[39m\n    ^\n\u001b[31mIndentationError\u001b[39m\u001b[31m:\u001b[39m unexpected indent\n"
     ]
    }
   ],
   "source": [
    "#1\n",
    "salario = 0\n",
    "#2\n",
    "unha = 120\n",
    "#3\n",
    "cabelo = 180\n",
    "#4\n",
    "saidas = 100\n",
    "#5\n",
    "maquiagem = 120\n",
    "#6\n",
    "cilios = 50\n",
    "\n",
    "gasto_total = unha + cabelo + saidas + maquiagem + cilios\n",
    "\n",
    "total_de_gasto - gasto_total\n",
    " print(total_que_sobrara)"
   ]
  }
 ],
 "metadata": {
  "kernelspec": {
   "display_name": "Python 3",
   "language": "python",
   "name": "python3"
  },
  "language_info": {
   "codemirror_mode": {
    "name": "ipython",
    "version": 3
   },
   "file_extension": ".py",
   "mimetype": "text/x-python",
   "name": "python",
   "nbconvert_exporter": "python",
   "pygments_lexer": "ipython3",
   "version": "3.13.2"
  }
 },
 "nbformat": 4,
 "nbformat_minor": 5
}
