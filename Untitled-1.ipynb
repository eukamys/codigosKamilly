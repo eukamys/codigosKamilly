{
 "cells": [
  {
   "cell_type": "markdown",
   "id": "71173636",
   "metadata": {},
   "source": [
    "### minha playlist"
   ]
  },
  {
   "cell_type": "code",
   "execution_count": null,
   "id": "7f26cc01",
   "metadata": {},
   "outputs": [],
   "source": [
    "minha_playlist = [\"skank achocolatado\", \"mina de vermelho\", \"inevitavel\", \"casal bonnie clayde\", \"vem na treta\"]\n",
    "print (minha_playlist)"
   ]
  }
 ],
 "metadata": {
  "kernelspec": {
   "display_name": "Python 3",
   "language": "python",
   "name": "python3"
  },
  "language_info": {
   "codemirror_mode": {
    "name": "ipython",
    "version": 3
   },
   "file_extension": ".py",
   "mimetype": "text/x-python",
   "name": "python",
   "nbconvert_exporter": "python",
   "pygments_lexer": "ipython3",
   "version": "3.13.2"
  }
 },
 "nbformat": 4,
 "nbformat_minor": 5
}
