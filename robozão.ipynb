{
 "cells": [
  {
   "cell_type": "code",
   "execution_count": null,
   "id": "88195ca9",
   "metadata": {},
   "outputs": [],
   "source": [
    "#estou importando o pyautogui e apelidando\n",
    "import pyautogui as aut\n",
    "aut.press(\"win\")\n"
   ]
  },
  {
   "cell_type": "code",
   "execution_count": 7,
   "id": "41741df3",
   "metadata": {},
   "outputs": [],
   "source": [
    "import pyautogui as aut\n",
    "\n",
    "#pressiono a tecla de atalho win +r\n",
    "aut.hotkey(\"win\",\"r\")\n",
    "#escrever notpad\n",
    "aut.write(\"notepad\", interval=0.7)\n",
    "#esperar 1 segundo\n",
    "aut.sleep(1)\n",
    "#apertar o Enter\n",
    "aut.press(\"Enter\")\n",
    "aut.sleep(1)\n",
    "aut.moveTo(118,350)\n",
    "aut.click()\n",
    "aut.sleep(1)\n",
    "aut.write(\"professor top\", interval =0.2)"
   ]
  },
  {
   "cell_type": "code",
   "execution_count": 1,
   "id": "2d915dae",
   "metadata": {},
   "outputs": [],
   "source": [
    "### Pegando a posição do Mouse"
   ]
  },
  {
   "cell_type": "code",
   "execution_count": 12,
   "id": "1725e285",
   "metadata": {},
   "outputs": [],
   "source": [
    "#pega a informação do mouse \n",
    "aut.mouseInfo()\n"
   ]
  },
  {
   "cell_type": "code",
   "execution_count": 16,
   "id": "3ea46c9b",
   "metadata": {},
   "outputs": [],
   "source": [
    "#Tentando Jogar o dinossauro\n",
    "import pyautogui as aut\n",
    "\n",
    "                       \n",
    "aut.hotkey(\"win\",\"r\")\n",
    "aut. write(\"chrome\")\n",
    "aut.sleep(1)\n",
    "aut.press(\"Enter\")\n",
    "aut.sleep(1)\n",
    "aut.moveTo(689,452)\n",
    "aut.click()\n",
    "aut.sleep(0.7)\n",
    "aut.moveTo(530,52)\n",
    "aut.sleep(1)\n",
    "aut.click()\n",
    "aut.sleep(1)\n",
    "aut.write(\"https://youtu.be/gJWoAB--ZYQ?si=cVNk7cqNRDM5vBsn\", interval= 0.03)\n",
    "aut.sleep(1)\n",
    "aut.press(\"Enter\")"
   ]
  },
  {
   "cell_type": "code",
   "execution_count": 17,
   "id": "854fb714",
   "metadata": {},
   "outputs": [],
   "source": [
    "aut.press(\"win\")\n",
    "aut.sleep(0.5)\n",
    "aut.write('pain', interval=0.2)\n",
    "aut.sleep(0.5)\n",
    "aut.press('enter')\n"
   ]
  }
 ],
 "metadata": {
  "kernelspec": {
   "display_name": "Python 3",
   "language": "python",
   "name": "python3"
  },
  "language_info": {
   "codemirror_mode": {
    "name": "ipython",
    "version": 3
   },
   "file_extension": ".py",
   "mimetype": "text/x-python",
   "name": "python",
   "nbconvert_exporter": "python",
   "pygments_lexer": "ipython3",
   "version": "3.13.2"
  }
 },
 "nbformat": 4,
 "nbformat_minor": 5
}
